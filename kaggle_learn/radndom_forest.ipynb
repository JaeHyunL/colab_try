{
 "cells": [
  {
   "cell_type": "code",
   "execution_count": null,
   "metadata": {},
   "outputs": [],
   "source": [
    "import kagglehub\n",
    "import pandas as pd\n",
    "\n",
    "from sklearn.model_selection import train_test_split\n",
    "\n",
    "\n",
    "path = kagglehub.dataset_download(\"dansbecker/melbourne-housing-snapshot\")\n",
    "\n",
    "print(\"Path to dataset files:\", path)\n",
    "melborune_file_path = f\"{path}/melb_data.csv\"\n",
    "melborune_data = pd.read_csv(melborune_file_path)\n",
    "# melbourne_file_path = '/melbourne-housing-snapshot/melb_data.csv'\n",
    "# melbourne_data = pd.read_csv(melbourne_file_path) \n",
    "filtered_melborune_data = melborune_data.dropna(axis=0)\n",
    "y = filtered_melborune_data.Price\n",
    "melbourne_features = ['Rooms', 'Bathroom', 'Landsize', 'BuildingArea', \n",
    "                        'YearBuilt', 'Lattitude', 'Longtitude']\n",
    "X = filtered_melborune_data[melbourne_features]\n",
    "\n",
    "# split data into training and validation data, for both features and target\n",
    "train_X, val_X, train_y, val_y = train_test_split(X, y,random_state = 0)\n"
   ]
  }
 ],
 "metadata": {
  "language_info": {
   "name": "python"
  }
 },
 "nbformat": 4,
 "nbformat_minor": 2
}
