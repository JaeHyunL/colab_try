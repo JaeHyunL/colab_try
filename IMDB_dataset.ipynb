{
 "cells": [
  {
   "cell_type": "code",
   "execution_count": 1,
   "metadata": {},
   "outputs": [
    {
     "name": "stdout",
     "output_type": "stream",
     "text": [
      "Defaulting to user installation because normal site-packages is not writeable\n",
      "Collecting torchtext\n",
      "  Downloading torchtext-0.18.0-cp310-cp310-manylinux1_x86_64.whl (2.0 MB)\n",
      "\u001b[2K     \u001b[90m━━━━━━━━━━━━━━━━━━━━━━━━━━━━━━━━━━━━━━━━\u001b[0m \u001b[32m2.0/2.0 MB\u001b[0m \u001b[31m2.7 MB/s\u001b[0m eta \u001b[36m0:00:00\u001b[0m00:01\u001b[0m00:01\u001b[0m\n",
      "\u001b[?25hRequirement already satisfied: numpy in /home/oem/.local/lib/python3.10/site-packages (from torchtext) (1.26.4)\n",
      "Requirement already satisfied: requests in /home/oem/.local/lib/python3.10/site-packages (from torchtext) (2.32.3)\n",
      "Requirement already satisfied: torch>=2.3.0 in /home/oem/.local/lib/python3.10/site-packages (from torchtext) (2.4.1)\n",
      "Requirement already satisfied: tqdm in /home/oem/.local/lib/python3.10/site-packages (from torchtext) (4.66.5)\n",
      "Requirement already satisfied: nvidia-curand-cu12==10.3.2.106 in /home/oem/.local/lib/python3.10/site-packages (from torch>=2.3.0->torchtext) (10.3.2.106)\n",
      "Requirement already satisfied: nvidia-cudnn-cu12==9.1.0.70 in /home/oem/.local/lib/python3.10/site-packages (from torch>=2.3.0->torchtext) (9.1.0.70)\n",
      "Requirement already satisfied: filelock in /home/oem/.local/lib/python3.10/site-packages (from torch>=2.3.0->torchtext) (3.16.1)\n",
      "Requirement already satisfied: nvidia-nvtx-cu12==12.1.105 in /home/oem/.local/lib/python3.10/site-packages (from torch>=2.3.0->torchtext) (12.1.105)\n",
      "Requirement already satisfied: nvidia-cusolver-cu12==11.4.5.107 in /home/oem/.local/lib/python3.10/site-packages (from torch>=2.3.0->torchtext) (11.4.5.107)\n",
      "Requirement already satisfied: sympy in /home/oem/.local/lib/python3.10/site-packages (from torch>=2.3.0->torchtext) (1.13.1)\n",
      "Requirement already satisfied: networkx in /home/oem/.local/lib/python3.10/site-packages (from torch>=2.3.0->torchtext) (3.4.2)\n",
      "Requirement already satisfied: nvidia-cublas-cu12==12.1.3.1 in /home/oem/.local/lib/python3.10/site-packages (from torch>=2.3.0->torchtext) (12.1.3.1)\n",
      "Requirement already satisfied: nvidia-cusparse-cu12==12.1.0.106 in /home/oem/.local/lib/python3.10/site-packages (from torch>=2.3.0->torchtext) (12.1.0.106)\n",
      "Requirement already satisfied: nvidia-nccl-cu12==2.20.5 in /home/oem/.local/lib/python3.10/site-packages (from torch>=2.3.0->torchtext) (2.20.5)\n",
      "Requirement already satisfied: nvidia-cuda-runtime-cu12==12.1.105 in /home/oem/.local/lib/python3.10/site-packages (from torch>=2.3.0->torchtext) (12.1.105)\n",
      "Requirement already satisfied: nvidia-cuda-cupti-cu12==12.1.105 in /home/oem/.local/lib/python3.10/site-packages (from torch>=2.3.0->torchtext) (12.1.105)\n",
      "Requirement already satisfied: nvidia-cufft-cu12==11.0.2.54 in /home/oem/.local/lib/python3.10/site-packages (from torch>=2.3.0->torchtext) (11.0.2.54)\n",
      "Requirement already satisfied: jinja2 in /home/oem/.local/lib/python3.10/site-packages (from torch>=2.3.0->torchtext) (3.1.4)\n",
      "Requirement already satisfied: typing-extensions>=4.8.0 in /home/oem/.local/lib/python3.10/site-packages (from torch>=2.3.0->torchtext) (4.12.2)\n",
      "Requirement already satisfied: fsspec in /home/oem/.local/lib/python3.10/site-packages (from torch>=2.3.0->torchtext) (2024.9.0)\n",
      "Requirement already satisfied: nvidia-cuda-nvrtc-cu12==12.1.105 in /home/oem/.local/lib/python3.10/site-packages (from torch>=2.3.0->torchtext) (12.1.105)\n",
      "Requirement already satisfied: triton==3.0.0 in /home/oem/.local/lib/python3.10/site-packages (from torch>=2.3.0->torchtext) (3.0.0)\n",
      "Requirement already satisfied: nvidia-nvjitlink-cu12 in /home/oem/.local/lib/python3.10/site-packages (from nvidia-cusolver-cu12==11.4.5.107->torch>=2.3.0->torchtext) (12.4.127)\n",
      "Requirement already satisfied: idna<4,>=2.5 in /home/oem/.local/lib/python3.10/site-packages (from requests->torchtext) (3.10)\n",
      "Requirement already satisfied: certifi>=2017.4.17 in /home/oem/.local/lib/python3.10/site-packages (from requests->torchtext) (2024.8.30)\n",
      "Requirement already satisfied: urllib3<3,>=1.21.1 in /home/oem/.local/lib/python3.10/site-packages (from requests->torchtext) (2.2.3)\n",
      "Requirement already satisfied: charset-normalizer<4,>=2 in /home/oem/.local/lib/python3.10/site-packages (from requests->torchtext) (3.3.2)\n",
      "Requirement already satisfied: MarkupSafe>=2.0 in /home/oem/.local/lib/python3.10/site-packages (from jinja2->torch>=2.3.0->torchtext) (2.1.5)\n",
      "Requirement already satisfied: mpmath<1.4,>=1.1.0 in /home/oem/.local/lib/python3.10/site-packages (from sympy->torch>=2.3.0->torchtext) (1.3.0)\n",
      "Installing collected packages: torchtext\n",
      "Successfully installed torchtext-0.18.0\n"
     ]
    }
   ],
   "source": [
    "# !pip uninstall torchtext\n",
    "!pip install torchtext\n"
   ]
  },
  {
   "cell_type": "code",
   "execution_count": 2,
   "metadata": {},
   "outputs": [
    {
     "name": "stdout",
     "output_type": "stream",
     "text": [
      "Defaulting to user installation because normal site-packages is not writeable\n",
      "Collecting portalocker\n",
      "  Downloading portalocker-3.1.1-py3-none-any.whl (19 kB)\n",
      "Installing collected packages: portalocker\n",
      "Successfully installed portalocker-3.1.1\n"
     ]
    }
   ],
   "source": [
    "# !pip uninstall portalocker\n",
    "!pip install portalocker --no-cache-dir\n"
   ]
  },
  {
   "cell_type": "markdown",
   "metadata": {},
   "source": []
  },
  {
   "cell_type": "code",
   "execution_count": 3,
   "metadata": {},
   "outputs": [
    {
     "name": "stdout",
     "output_type": "stream",
     "text": [
      "Defaulting to user installation because normal site-packages is not writeable\n",
      "Requirement already satisfied: accelerate in /home/oem/.local/lib/python3.10/site-packages (1.3.0)\n",
      "Requirement already satisfied: pyyaml in /usr/lib/python3/dist-packages (from accelerate) (5.4.1)\n",
      "Requirement already satisfied: psutil in /home/oem/.local/lib/python3.10/site-packages (from accelerate) (6.0.0)\n",
      "Requirement already satisfied: packaging>=20.0 in /home/oem/.local/lib/python3.10/site-packages (from accelerate) (24.1)\n",
      "Requirement already satisfied: numpy<3.0.0,>=1.17 in /home/oem/.local/lib/python3.10/site-packages (from accelerate) (1.26.4)\n",
      "Requirement already satisfied: huggingface-hub>=0.21.0 in /home/oem/.local/lib/python3.10/site-packages (from accelerate) (0.26.1)\n",
      "Requirement already satisfied: safetensors>=0.4.3 in /home/oem/.local/lib/python3.10/site-packages (from accelerate) (0.4.5)\n",
      "Requirement already satisfied: torch>=2.0.0 in /home/oem/.local/lib/python3.10/site-packages (from accelerate) (2.4.1)\n",
      "Requirement already satisfied: tqdm>=4.42.1 in /home/oem/.local/lib/python3.10/site-packages (from huggingface-hub>=0.21.0->accelerate) (4.66.5)\n",
      "Requirement already satisfied: filelock in /home/oem/.local/lib/python3.10/site-packages (from huggingface-hub>=0.21.0->accelerate) (3.16.1)\n",
      "Requirement already satisfied: fsspec>=2023.5.0 in /home/oem/.local/lib/python3.10/site-packages (from huggingface-hub>=0.21.0->accelerate) (2024.9.0)\n",
      "Requirement already satisfied: requests in /home/oem/.local/lib/python3.10/site-packages (from huggingface-hub>=0.21.0->accelerate) (2.32.3)\n",
      "Requirement already satisfied: typing-extensions>=3.7.4.3 in /home/oem/.local/lib/python3.10/site-packages (from huggingface-hub>=0.21.0->accelerate) (4.12.2)\n",
      "Requirement already satisfied: nvidia-cuda-runtime-cu12==12.1.105 in /home/oem/.local/lib/python3.10/site-packages (from torch>=2.0.0->accelerate) (12.1.105)\n",
      "Requirement already satisfied: nvidia-cusolver-cu12==11.4.5.107 in /home/oem/.local/lib/python3.10/site-packages (from torch>=2.0.0->accelerate) (11.4.5.107)\n",
      "Requirement already satisfied: triton==3.0.0 in /home/oem/.local/lib/python3.10/site-packages (from torch>=2.0.0->accelerate) (3.0.0)\n",
      "Requirement already satisfied: nvidia-cufft-cu12==11.0.2.54 in /home/oem/.local/lib/python3.10/site-packages (from torch>=2.0.0->accelerate) (11.0.2.54)\n",
      "Requirement already satisfied: jinja2 in /home/oem/.local/lib/python3.10/site-packages (from torch>=2.0.0->accelerate) (3.1.4)\n",
      "Requirement already satisfied: nvidia-cudnn-cu12==9.1.0.70 in /home/oem/.local/lib/python3.10/site-packages (from torch>=2.0.0->accelerate) (9.1.0.70)\n",
      "Requirement already satisfied: nvidia-cublas-cu12==12.1.3.1 in /home/oem/.local/lib/python3.10/site-packages (from torch>=2.0.0->accelerate) (12.1.3.1)\n",
      "Requirement already satisfied: sympy in /home/oem/.local/lib/python3.10/site-packages (from torch>=2.0.0->accelerate) (1.13.1)\n",
      "Requirement already satisfied: nvidia-cuda-nvrtc-cu12==12.1.105 in /home/oem/.local/lib/python3.10/site-packages (from torch>=2.0.0->accelerate) (12.1.105)\n",
      "Requirement already satisfied: nvidia-nccl-cu12==2.20.5 in /home/oem/.local/lib/python3.10/site-packages (from torch>=2.0.0->accelerate) (2.20.5)\n",
      "Requirement already satisfied: nvidia-nvtx-cu12==12.1.105 in /home/oem/.local/lib/python3.10/site-packages (from torch>=2.0.0->accelerate) (12.1.105)\n",
      "Requirement already satisfied: networkx in /home/oem/.local/lib/python3.10/site-packages (from torch>=2.0.0->accelerate) (3.4.2)\n",
      "Requirement already satisfied: nvidia-cuda-cupti-cu12==12.1.105 in /home/oem/.local/lib/python3.10/site-packages (from torch>=2.0.0->accelerate) (12.1.105)\n",
      "Requirement already satisfied: nvidia-cusparse-cu12==12.1.0.106 in /home/oem/.local/lib/python3.10/site-packages (from torch>=2.0.0->accelerate) (12.1.0.106)\n",
      "Requirement already satisfied: nvidia-curand-cu12==10.3.2.106 in /home/oem/.local/lib/python3.10/site-packages (from torch>=2.0.0->accelerate) (10.3.2.106)\n",
      "Requirement already satisfied: nvidia-nvjitlink-cu12 in /home/oem/.local/lib/python3.10/site-packages (from nvidia-cusolver-cu12==11.4.5.107->torch>=2.0.0->accelerate) (12.4.127)\n",
      "Requirement already satisfied: MarkupSafe>=2.0 in /home/oem/.local/lib/python3.10/site-packages (from jinja2->torch>=2.0.0->accelerate) (2.1.5)\n",
      "Requirement already satisfied: charset-normalizer<4,>=2 in /home/oem/.local/lib/python3.10/site-packages (from requests->huggingface-hub>=0.21.0->accelerate) (3.3.2)\n",
      "Requirement already satisfied: urllib3<3,>=1.21.1 in /home/oem/.local/lib/python3.10/site-packages (from requests->huggingface-hub>=0.21.0->accelerate) (2.2.3)\n",
      "Requirement already satisfied: idna<4,>=2.5 in /home/oem/.local/lib/python3.10/site-packages (from requests->huggingface-hub>=0.21.0->accelerate) (3.10)\n",
      "Requirement already satisfied: certifi>=2017.4.17 in /home/oem/.local/lib/python3.10/site-packages (from requests->huggingface-hub>=0.21.0->accelerate) (2024.8.30)\n",
      "Requirement already satisfied: mpmath<1.4,>=1.1.0 in /home/oem/.local/lib/python3.10/site-packages (from sympy->torch>=2.0.0->accelerate) (1.3.0)\n"
     ]
    }
   ],
   "source": [
    "# !pip uninstall accelerate\n",
    "!pip install accelerate -U --no-cache-dir\n"
   ]
  },
  {
   "cell_type": "code",
   "execution_count": 1,
   "metadata": {},
   "outputs": [],
   "source": [
    "from torchtext.datasets import IMDB\n",
    "\n",
    "train_iter = IMDB(split='train')\n",
    "test_iter = IMDB(split='test')"
   ]
  },
  {
   "cell_type": "code",
   "execution_count": null,
   "metadata": {},
   "outputs": [
    {
     "name": "stdout",
     "output_type": "stream",
     "text": [
      "FFF ShardingFilterIterDataPipe\n"
     ]
    }
   ],
   "source": [
    "import random\n",
    "random.seed(6)\n",
    "print('FFF', train_iter)\n",
    "\n",
    "train_list = list(train_iter)\n",
    "print('KKK')\n",
    "test_list = list(test_iter)\n",
    "print(\"AAA\")\n",
    "train_lists_small = random.sample(train_list, 1000)\n",
    "print(\"BBB\")\n",
    "test_lists_small = random.sample(test_list, 1000)\n",
    "print(\"CCC\")\n",
    "\n",
    "print(train_lists_small[0])\n",
    "print(test_lists_small[0])"
   ]
  }
 ],
 "metadata": {
  "kernelspec": {
   "display_name": ".venv",
   "language": "python",
   "name": "python3"
  },
  "language_info": {
   "codemirror_mode": {
    "name": "ipython",
    "version": 3
   },
   "file_extension": ".py",
   "mimetype": "text/x-python",
   "name": "python",
   "nbconvert_exporter": "python",
   "pygments_lexer": "ipython3",
   "version": "3.10.12"
  }
 },
 "nbformat": 4,
 "nbformat_minor": 2
}
