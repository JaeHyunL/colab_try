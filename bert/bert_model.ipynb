{
 "cells": [
  {
   "cell_type": "markdown",
   "metadata": {},
   "source": [
    "# BERT 다중 클래스 분류.\n",
    "\n",
    "Bert(Bidirectional Encoder Representations from Transformers)는 \n",
    "\n",
    "구글이 2018년에 10월에 발표한 사전학습 모델입니다.\n",
    "\n",
    "BERT는 [Attention is all You need]논문에서 제시한 트렌스포가 다층으로 인코더를 구성합니다.\n",
    "\n",
    "BERT 발표 이후 많은 파생 모델들이 발표되었습니다.\n",
    "\n",
    "이후 09장에서는 파이토치로 작성된 BERT를 소규모 데이터에 재학습을 시켜 다중 클래스 분류 작업을 수행해 봅니다."
   ]
  },
  {
   "cell_type": "markdown",
   "metadata": {},
   "source": [
    "다중 클래스 분류 작업을 BERT로 처리하기 위한 모듈을 설치합니다.\n",
    "\n",
    "그리고 bert-base-cased를 토크나이저 및 모델로 불러옵니다.\n",
    "\n",
    "여기에서 cased는 입력 텍스트를 대문자와 소문자 그대로 식별한다는 뜻입니다.\n",
    "\n",
    "이에 반해 uncased는 입력 텍스트를 모두 소문자로 전환하여 인식한다는 뜻 입니다."
   ]
  },
  {
   "cell_type": "code",
   "execution_count": 1,
   "metadata": {},
   "outputs": [
    {
     "name": "stderr",
     "output_type": "stream",
     "text": [
      "/mnt/d/workspace/colab_try/.venv/lib/python3.10/site-packages/tqdm/auto.py:21: TqdmWarning: IProgress not found. Please update jupyter and ipywidgets. See https://ipywidgets.readthedocs.io/en/stable/user_install.html\n",
      "  from .autonotebook import tqdm as notebook_tqdm\n",
      "Some weights of BertForSequenceClassification were not initialized from the model checkpoint at bert-base-cased and are newly initialized: ['classifier.bias', 'classifier.weight']\n",
      "You should probably TRAIN this model on a down-stream task to be able to use it for predictions and inference.\n"
     ]
    }
   ],
   "source": [
    "# 로드드\n",
    "from transformers import AutoTokenizer, AutoModelForSequenceClassification\n",
    "\n",
    "tokenizer = AutoTokenizer.from_pretrained('bert-base-cased')\n",
    "model = AutoModelForSequenceClassification.from_pretrained('bert-base-cased', num_labels=3)"
   ]
  },
  {
   "cell_type": "code",
   "execution_count": 2,
   "metadata": {},
   "outputs": [],
   "source": [
    "# 전처리\n",
    "import torch\n",
    "\n",
    "# 데이터 세트 준비!\n",
    "text_inputs = [\"I like apple\", \"I go to school\", \"I dislike mosquito\", \"I felt very said\", \"I feel so good\"]\n",
    "labels = [\"positive\", \"neutral\", \"negative\"]\n",
    "labels_dict = { \n",
    "    0: 'positive', 1: 'negative', 2: 'negative'\n",
    "}\n",
    "\n",
    "answer = torch.tensor([0, 1, 2, 2, 0])"
   ]
  },
  {
   "cell_type": "code",
   "execution_count": 3,
   "metadata": {},
   "outputs": [
    {
     "name": "stderr",
     "output_type": "stream",
     "text": [
      "/mnt/d/workspace/colab_try/.venv/lib/python3.10/site-packages/transformers/optimization.py:640: FutureWarning: This implementation of AdamW is deprecated and will be removed in a future version. Use the PyTorch implementation torch.optim.AdamW instead, or set `no_deprecation_warning=True` to disable this warning\n",
      "  warnings.warn(\n",
      "Training:   0%|          | 0/50 [00:00<?, ?it/s]"
     ]
    },
    {
     "name": "stderr",
     "output_type": "stream",
     "text": [
      "100%|██████████| 50/50 [00:18<00:00,  2.73it/s]      | 0/50 [00:18<?, ?it/s]\n"
     ]
    }
   ],
   "source": [
    "# 학습습\n",
    "from transformers import AdamW\n",
    "from tqdm import tqdm\n",
    "optimizer = AdamW(model.parameters(), lr=1e-5)\n",
    "\n",
    "model.train()\n",
    "\n",
    "epochs = 50\n",
    "losses = []\n",
    "\n",
    "# 파인튜닝 과정!!!\n",
    "message = tqdm(range(epochs), desc='Training')\n",
    "for epoch in tqdm(range(epochs)):\n",
    "    # 기울기를 초기화.\n",
    "    optimizer.zero_grad()\n",
    "    inputs = tokenizer.batch_encode_plus(text_inputs, return_tensors='pt', padding=True, truncation=True) # 이 함수의 역할을 여러 문장을 한번에 토큰화 하고 padding Trunation 자동처리하며 Attention Mask 까지 자동화 처리한다.\n",
    "\n",
    "    outputs = model(**inputs, labels=answer)\n",
    "\n",
    "    # 로짓 추출\n",
    "    logits = outputs.logits\n",
    "\n",
    "    # 손실 추출\n",
    "    loss = outputs.loss\n",
    "\n",
    "    # 오차 역전파\n",
    "    loss.backward()\n",
    "\n",
    "    # 가중치(weight) 업데이트\n",
    "    optimizer.step()\n",
    "\n",
    "    # 손실을 빈 컨테이너 losses에 순서대로 저장.\n",
    "    losses.append(loss)\n",
    "\n",
    "    # 에포크 및 손실값 출력\n",
    "    # 에포크는 0부터 시작하므로 1을 더해서 에포크 회수를 하나씩 늘려가며 표시.\n",
    "    message.set_description(f\"epoch: {epoch+1}, loss: {loss}\")\n"
   ]
  },
  {
   "cell_type": "code",
   "execution_count": 4,
   "metadata": {},
   "outputs": [
    {
     "name": "stdout",
     "output_type": "stream",
     "text": [
      "positive:I like apple\n",
      "negative:I go to school\n",
      "negative:I dislike mosquito\n",
      "negative:I felt very said\n",
      "positive:I feel so good\n"
     ]
    }
   ],
   "source": [
    "# 추론론\n",
    "model.eval()\n",
    "with torch.no_grad():\n",
    "    for article in text_inputs:\n",
    "        ouput_tokenizer = tokenizer.encode(article, return_tensors='pt', padding=True, truncation=True)\n",
    "        ouput_model = model(ouput_tokenizer)\n",
    "        logits = ouput_model.logits\n",
    "        print(f\"{labels_dict[logits.argmax(-1).item()]}:{article}\")"
   ]
  },
  {
   "cell_type": "code",
   "execution_count": 5,
   "metadata": {},
   "outputs": [
    {
     "data": {
      "text/plain": [
       "[<matplotlib.lines.Line2D at 0x7fb0b3bd63e0>]"
      ]
     },
     "execution_count": 5,
     "metadata": {},
     "output_type": "execute_result"
    },
    {
     "data": {
      "image/png": "[encoded data removed]",
      "text/plain": [
       "<Figure size 640x480 with 1 Axes>"
      ]
     },
     "metadata": {},
     "output_type": "display_data"
    }
   ],
   "source": [
    "# 파인튜닝 BERT 모델 학습 과정 시각화\n",
    "# 문제 046의 손실 수렴과정을 matplotlib를 통해 가시화해라.\n",
    "import matplotlib.pyplot as plt\n",
    "new_losses = [i.item() for i in losses]\n",
    "\n",
    "plt.plot(new_losses)"
   ]
  },
  {
   "cell_type": "code",
   "execution_count": 6,
   "metadata": {},
   "outputs": [
    {
     "name": "stdout",
     "output_type": "stream",
     "text": [
      "positive:I like apple\n",
      "neutral:I go to school\n",
      "negative:I dislike mosquito\n",
      "negative:I felt very said\n",
      "positive:I feel so good\n"
     ]
    }
   ],
   "source": [
    "# 048 학습 후 추론.\n",
    "model.eval()\n",
    "# 모델 예측을 담을 preds라는 빈 컨테이너 리스트를 생성\n",
    "preds = []\n",
    "\n",
    "with torch.no_grad():\n",
    "    for article in text_inputs:\n",
    "        ouput_tokenizer = tokenizer.encode(article, return_tensors='pt', padding=True, truncation=True)\n",
    "        ouput_model = model(ouput_tokenizer)\n",
    "        logits = ouput_model.logits\n",
    "        pred = logits.argmax(-1).item()\n",
    "        preds.append(logits.argmax(-1).item())\n",
    "        print(f\"{labels[pred]}:{article}\")"
   ]
  },
  {
   "cell_type": "code",
   "execution_count": 10,
   "metadata": {},
   "outputs": [
    {
     "name": "stdout",
     "output_type": "stream",
     "text": [
      "Accuracy:100.0%\n"
     ]
    },
    {
     "name": "stderr",
     "output_type": "stream",
     "text": [
      "/tmp/ipykernel_12740/3635329565.py:5: UserWarning: To copy construct from a tensor, it is recommended to use sourceTensor.clone().detach() or sourceTensor.clone().detach().requires_grad_(True), rather than torch.tensor(sourceTensor).\n",
      "  preds = torch.tensor(preds)\n"
     ]
    }
   ],
   "source": [
    "# 분류 정확도.\n",
    "\n",
    "# 문제 048의 추련결과의 정확도를 게산하시오\n",
    "import torch\n",
    "preds = torch.tensor(preds)\n",
    "\n",
    "print(f\"Accuracy:{100 * sum(answer.detach().clone()==preds)/len(answer.detach().clone())}%\")"
   ]
  }
 ],
 "metadata": {
  "kernelspec": {
   "display_name": ".venv",
   "language": "python",
   "name": "python3"
  },
  "language_info": {
   "codemirror_mode": {
    "name": "ipython",
    "version": 3
   },
   "file_extension": ".py",
   "mimetype": "text/x-python",
   "name": "python",
   "nbconvert_exporter": "python",
   "pygments_lexer": "ipython3",
   "version": "3.10.12"
  }
 },
 "nbformat": 4,
 "nbformat_minor": 2
}
