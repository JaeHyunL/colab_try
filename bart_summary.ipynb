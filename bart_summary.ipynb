{
 "cells": [
  {
   "cell_type": "markdown",
   "metadata": {
    "vscode": {
     "languageId": "plaintext"
    }
   },
   "source": [
    "BART는 사전학습된 시퀀스-투-시퀀스 모델로서 노이즈를 제거하는 오토인코더 입니다.\n",
    "\n",
    "여기서 시퀀스 투 시퀀스 모델이란 입력 시퀀스(원소들이 한 줄로 길게 늘어선 모양)로 넣고,\n",
    "\n",
    "출력도 시퀀스로 받는 모델을 의미합니다.\n",
    "BART는 임의의 노이즈 함수로 텍스트에 변동성을 추가하고 난 후 원래 텍스트를 재구축하도록 모델을 학습을 진행함.\n",
    "\n",
    "BART는 신경망 번역에 사용되는 통상적인 트랜스포머를 씁니다. BART는 신경망 번역에 사용되는 통상적인 트랜스포머를 씁니다.\n",
    "\n",
    "이 모델은 구조가 단순하다는 장점과 함께, BERT나 GPT 등 최신 사전학습 모델의 일반화 형태로 간주되기도 합니다.\n",
    "\n",
    "왜냐하면 BART는 인코더로 BERT(양방향 인코더로 구성)를 사용하고, 디코더 GPT(단방향 디코더로 구성)를 사용하기 떄문입니다.\n",
    "\n",
    "이 장에서는 BART를 사용하여 문장 자동 요약을 시도합니다."
   ]
  },
  {
   "cell_type": "markdown",
   "metadata": {
    "vscode": {
     "languageId": "plaintext"
    }
   },
   "source": [
    "인코딩 <-> 디코딩 쌍방 변환.\n",
    "input network 수 = output netowrk 수\n",
    "\n",
    "원본 데이터에 있는 정보 중에서 핵심이 되는 정보를 파악하는데 방해가 되는 잡음 정보.\n",
    "디 노이징.\n"
   ]
  },
  {
   "cell_type": "code",
   "execution_count": 1,
   "metadata": {},
   "outputs": [
    {
     "data": {
      "text/plain": [
       "BartForConditionalGeneration(\n",
       "  (model): BartModel(\n",
       "    (shared): BartScaledWordEmbedding(50265, 1024, padding_idx=1)\n",
       "    (encoder): BartEncoder(\n",
       "      (embed_tokens): BartScaledWordEmbedding(50265, 1024, padding_idx=1)\n",
       "      (embed_positions): BartLearnedPositionalEmbedding(1026, 1024)\n",
       "      (layers): ModuleList(\n",
       "        (0-11): 12 x BartEncoderLayer(\n",
       "          (self_attn): BartSdpaAttention(\n",
       "            (k_proj): Linear(in_features=1024, out_features=1024, bias=True)\n",
       "            (v_proj): Linear(in_features=1024, out_features=1024, bias=True)\n",
       "            (q_proj): Linear(in_features=1024, out_features=1024, bias=True)\n",
       "            (out_proj): Linear(in_features=1024, out_features=1024, bias=True)\n",
       "          )\n",
       "          (self_attn_layer_norm): LayerNorm((1024,), eps=1e-05, elementwise_affine=True)\n",
       "          (activation_fn): GELUActivation()\n",
       "          (fc1): Linear(in_features=1024, out_features=4096, bias=True)\n",
       "          (fc2): Linear(in_features=4096, out_features=1024, bias=True)\n",
       "          (final_layer_norm): LayerNorm((1024,), eps=1e-05, elementwise_affine=True)\n",
       "        )\n",
       "      )\n",
       "      (layernorm_embedding): LayerNorm((1024,), eps=1e-05, elementwise_affine=True)\n",
       "    )\n",
       "    (decoder): BartDecoder(\n",
       "      (embed_tokens): BartScaledWordEmbedding(50265, 1024, padding_idx=1)\n",
       "      (embed_positions): BartLearnedPositionalEmbedding(1026, 1024)\n",
       "      (layers): ModuleList(\n",
       "        (0-11): 12 x BartDecoderLayer(\n",
       "          (self_attn): BartSdpaAttention(\n",
       "            (k_proj): Linear(in_features=1024, out_features=1024, bias=True)\n",
       "            (v_proj): Linear(in_features=1024, out_features=1024, bias=True)\n",
       "            (q_proj): Linear(in_features=1024, out_features=1024, bias=True)\n",
       "            (out_proj): Linear(in_features=1024, out_features=1024, bias=True)\n",
       "          )\n",
       "          (activation_fn): GELUActivation()\n",
       "          (self_attn_layer_norm): LayerNorm((1024,), eps=1e-05, elementwise_affine=True)\n",
       "          (encoder_attn): BartSdpaAttention(\n",
       "            (k_proj): Linear(in_features=1024, out_features=1024, bias=True)\n",
       "            (v_proj): Linear(in_features=1024, out_features=1024, bias=True)\n",
       "            (q_proj): Linear(in_features=1024, out_features=1024, bias=True)\n",
       "            (out_proj): Linear(in_features=1024, out_features=1024, bias=True)\n",
       "          )\n",
       "          (encoder_attn_layer_norm): LayerNorm((1024,), eps=1e-05, elementwise_affine=True)\n",
       "          (fc1): Linear(in_features=1024, out_features=4096, bias=True)\n",
       "          (fc2): Linear(in_features=4096, out_features=1024, bias=True)\n",
       "          (final_layer_norm): LayerNorm((1024,), eps=1e-05, elementwise_affine=True)\n",
       "        )\n",
       "      )\n",
       "      (layernorm_embedding): LayerNorm((1024,), eps=1e-05, elementwise_affine=True)\n",
       "    )\n",
       "  )\n",
       "  (lm_head): Linear(in_features=1024, out_features=50265, bias=False)\n",
       ")"
      ]
     },
     "execution_count": 1,
     "metadata": {},
     "output_type": "execute_result"
    }
   ],
   "source": [
    "# facebook/bart-large 모델 및 토크나이저\n",
    "from transformers import AutoTokenizer, AutoModelForSeq2SeqLM\n",
    "\n",
    "tokenizer = AutoTokenizer.from_pretrained('facebook/bart-large')\n",
    "model = AutoModelForSeq2SeqLM.from_pretrained('facebook/bart-large')\n",
    "model"
   ]
  },
  {
   "cell_type": "code",
   "execution_count": 2,
   "metadata": {},
   "outputs": [
    {
     "name": "stdout",
     "output_type": "stream",
     "text": [
      "Google is an American multinational corporation and technology company focusing on online advertising, search engine technology, cloud computing, computer software, quantum computing, e-commerce, consumer electronics, and artificial intelligence (AI) It has been referred to as \"the most powerful company in the world\" by the BB and is one of the world's most valuable brands due to its market dominance, data collection, and technological advantages in the field of AI Alongside Amazon, Apple, Meta, and Microsoft, Google's parent company, Alphabet Inc. is one of the five Big Tech companies.Google was founded on September 4, 1998, by American computer scientists Larry Page and Sergey Brin while they were PhD students at Stanford University in California. Together, they own about 14% of its publicly listed shares and control 56% of its stockholder voting power through super-voting stock. The company went public via an initial public offering (IPO) in 2004. In 2015, Google was reorganized as a wholly owned subsidiary of Alphabet Inc. Google is Alphabet's largest subsidiary and is a holding company for Alphabet's internet properties and interests. Sundar Pichai was appointed CEO of Google on October 24, 2015, replacing Larry Page, who became the CEO of Alphabet. On December 3, 2019, Pichai also became the CEO of AlphabetThe company has since rapidly grown to offer a multitude of products and services beyond Google Search, many of which hold dominant market positions. These products address a wide range of use cases, including email (Gmail), navigation and mapping (Waze, Maps and Earth), cloud computing (Cloud), web navigation (Chrome), video sharing (YouTube), productivity (Workspace), operating systems (Android), cloud storage (Drive), language translation (Translate), photo storage (Photos), videotelephony (Meet), smart home (Nest), smartphones (Pixel), wearable technology (Pixel Watch and Fitbit), music streaming (YouTube Music), video on demand (YouTube TV), AI (Google Assistant and Gemini), machine learning APIs (TensorFlow), AI chips (TPU), and more. Discontinued Google products include gaming (Stadia) Glass, Google+, Reader, Play Music, Nexus, Hangouts, and Inbox by Gmail Google's other ventures outside of internet services and consumer electronics include quantum computing (Sycamore), self-driving cars (Waymo, formerly the Google Self-Driving Car Project), smart cities (Sidewalk Labs), and transformer models (Google DeepMind)Google Search and YouTube are the two most-visited websites worldwide followed by Facebook and Twitter (now known as X). Google is also the largest search engine, mapping and navigation application, email provider, office suite, online video platform, photo and cloud storage provider, mobile operating system, web browser, machine learning framework, and AI virtual assistant provider in the world as measured by market share On the list of most valuable brands, Google is ranked second by Forbes as of January 202 and fourth by Interbrand as of February 2022The company has received significant criticism involving issues such as privacy concerns, tax avoidance, censorship, search neutrality, antitrust and abuse of its monopoly position. On August 5, 2024, D.C. Circuit Court Judge Amit P. Mehta ruled that Google held an illegal monopoly over Internet search\n"
     ]
    }
   ],
   "source": [
    "import re\n",
    "\n",
    "article = \"\"\"\n",
    "Google is an American multinational corporation and technology company focusing on online advertising, search engine technology, cloud computing, computer software, quantum computing, e-commerce, consumer electronics, and artificial intelligence (AI).[9] It has been referred to as \"the most powerful company in the world\" by the BBC[10] and is one of the world's most valuable brands due to its market dominance, data collection, and technological advantages in the field of AI.[11][12][13] Alongside Amazon, Apple, Meta, and Microsoft, Google's parent company, Alphabet Inc. is one of the five Big Tech companies.\n",
    "\n",
    "Google was founded on September 4, 1998, by American computer scientists Larry Page and Sergey Brin while they were PhD students at Stanford University in California. Together, they own about 14% of its publicly listed shares and control 56% of its stockholder voting power through super-voting stock. The company went public via an initial public offering (IPO) in 2004. In 2015, Google was reorganized as a wholly owned subsidiary of Alphabet Inc. Google is Alphabet's largest subsidiary and is a holding company for Alphabet's internet properties and interests. Sundar Pichai was appointed CEO of Google on October 24, 2015, replacing Larry Page, who became the CEO of Alphabet. On December 3, 2019, Pichai also became the CEO of Alphabet.[14]\n",
    "\n",
    "The company has since rapidly grown to offer a multitude of products and services beyond Google Search, many of which hold dominant market positions. These products address a wide range of use cases, including email (Gmail), navigation and mapping (Waze, Maps and Earth), cloud computing (Cloud), web navigation (Chrome), video sharing (YouTube), productivity (Workspace), operating systems (Android), cloud storage (Drive), language translation (Translate), photo storage (Photos), videotelephony (Meet), smart home (Nest), smartphones (Pixel), wearable technology (Pixel Watch and Fitbit), music streaming (YouTube Music), video on demand (YouTube TV), AI (Google Assistant and Gemini), machine learning APIs (TensorFlow), AI chips (TPU), and more. Discontinued Google products include gaming (Stadia),[15] Glass, Google+, Reader, Play Music, Nexus, Hangouts, and Inbox by Gmail.[16][17] Google's other ventures outside of internet services and consumer electronics include quantum computing (Sycamore), self-driving cars (Waymo, formerly the Google Self-Driving Car Project), smart cities (Sidewalk Labs), and transformer models (Google DeepMind).[18]\n",
    "\n",
    "Google Search and YouTube are the two most-visited websites worldwide followed by Facebook and Twitter (now known as X). Google is also the largest search engine, mapping and navigation application, email provider, office suite, online video platform, photo and cloud storage provider, mobile operating system, web browser, machine learning framework, and AI virtual assistant provider in the world as measured by market share.[19] On the list of most valuable brands, Google is ranked second by Forbes as of January 2022[20] and fourth by Interbrand as of February 2022.[21]\n",
    "\n",
    "The company has received significant criticism involving issues such as privacy concerns, tax avoidance, censorship, search neutrality, antitrust and abuse of its monopoly position. On August 5, 2024, D.C. Circuit Court Judge Amit P. Mehta ruled that Google held an illegal monopoly over Internet search.[22]\"\"\"\n",
    "\n",
    "article = re.sub(r\"[:.]\\[[0-9]+\\]\\([0-9]+\\)|.?[([][0-9]+[])]|\\n|\\r\", r\"\", article)\n",
    "\n",
    "print(article)"
   ]
  },
  {
   "cell_type": "code",
   "execution_count": 13,
   "metadata": {},
   "outputs": [
    {
     "data": {
      "text/plain": [
       "{'input_ids': tensor([[    0, 20441,    16,    41,   470, 17043, 12772,     8,   806,   138,\n",
       "          5650,    15,   804,  4579,     6,  1707,  3819,   806,     6,  3613,\n",
       "         11730,     6,  3034,  2257,     6, 17997, 11730,     6,   364,    12,\n",
       "          8342,     6,  2267,  8917,     6,     8,  7350,  2316,    36, 15238,\n",
       "            43,    85,    34,    57,  4997,     7,    25,    22,   627,   144,\n",
       "          2247,   138,    11,     5,   232,   113,    30,     5,  8112,     8,\n",
       "            16,    65,     9,     5,   232,    18,   144,  5130,  3595,   528,\n",
       "             7,    63,   210, 12532,     6,   414,  2783,     6,     8,  9874,\n",
       "         12340,    11,     5,   882,     9,  4687,  7538,  3730,  1645,     6,\n",
       "          1257,     6, 37622,     6,     8,  3709,     6,  1204,    18,  4095,\n",
       "           138,     6, 15023,   603,     4,    16,    65,     9,     5,   292,\n",
       "          1776,  4569,   451,     4, 20441,    21,  4790,    15,   772,   204,\n",
       "             6,  6708,     6,    30,   470,  3034,  4211,  6045,  7086,     8,\n",
       "         23509,  2265,   179,   150,    51,    58, 15221,   521,    23,  8607,\n",
       "           589,    11,   886,     4, 10853,     6,    51,   308,    59,   501,\n",
       "           207,     9,    63,  3271,  3147,   327,     8,   797,  4772,   207,\n",
       "             9,    63,   388, 14074,  3434,   476,   149,  2422,    12,   705,\n",
       "         12653,   388,     4,    20,   138,   439,   285,  1241,    41,  2557,\n",
       "           285,  1839,    36,  3808,   673,    43,    11,  4482,     4,    96,\n",
       "           570,     6,  1204,    21,   769, 29835,    25,    10, 16123,  2164,\n",
       "          8540,     9, 15023,   603,     4,  1204,    16, 15023,    18,  1154,\n",
       "          8540,     8,    16,    10,  1826,   138,    13, 15023,    18,  2888,\n",
       "          3611,     8,  3168,     4, 12282,   271,   221,  1725,  1439,    21,\n",
       "          3873,  1324,     9,  1204,    15,   779,   706,     6,   570,     6,\n",
       "          8119,  6045,  7086,     6,    54,  1059,     5,  1324,     9, 15023,\n",
       "             4,   374,   719,   155,     6,   954,     6,   221,  1725,  1439,\n",
       "            67,  1059,     5,  1324,     9, 15023,   133,   138,    34,   187,\n",
       "          6042,  3831,     7,   904,    10, 25180,     9,   785,     8,   518,\n",
       "          1684,  1204, 12180,     6,   171,     9,    61,   946,  7353,   210,\n",
       "          2452,     4,  1216,   785,  1100,    10,  1810,  1186,     9,   304,\n",
       "          1200,     6,   217,  1047,    36,   534,  6380,   238, 14461,     8,\n",
       "         20410,    36,   771, 10129,     6, 21089,     8,  3875,   238,  3613,\n",
       "         11730,    36, 14438,   238,  3748, 14461,    36,  4771, 20169,   238,\n",
       "           569,  3565,    36, 36169,   238,  8106,    36, 26025, 18851,   238,\n",
       "          1633,  1743,    36, 42375,   238,  3613,  3521,    36, 29279,   238,\n",
       "          2777, 19850,    36, 19163, 19593,   238,  1345,  3521,    36, 38580,\n",
       "           238, 29331,  6457,   459, 29788,    36, 30682,   238,  2793,   184,\n",
       "            36,   487,   990,   238,  7466,    36, 46548,   238, 23541,   806,\n",
       "            36, 46548,  3075,     8, 14950,  5881,   238,   930,  5230,    36,\n",
       "         36169,  3920,   238,   569,    15,  1077,    36, 36169,  1012,   238,\n",
       "          4687,    36, 20441,  6267,     8, 26577,   238,  3563,  2239, 35329,\n",
       "            36,   565, 35354, 41779,   238,  4687,  8053,    36,   565, 16821,\n",
       "           238,     8,    55,     4, 19020,  2533,   179,  6796,  1204,   785,\n",
       "           680,  6548,    36,  5320, 20329,    43, 10352,     6,  1204, 30787,\n",
       "         27019,     6,  3902,  3920,     6, 28645,     6, 12403,  4518,     6,\n",
       "             8,    96,  8304,    30, 29004,  1204,    18,    97, 16186,   751,\n",
       "             9,  2888,   518,     8,  2267,  8917,   680, 17997, 11730,    36,\n",
       "         35615, 16767,  1688,   238,  1403,    12, 10241,  1677,    36, 24450,\n",
       "          4992,     6,  9598,     5,  1204, 12156,    12, 34002,  6645,  1653,\n",
       "          3728,   238,  2793,  1947,    36,   104,   808,  2753,  9707, 20404,\n",
       "           238,     8, 40878,  3092,    36, 20441,  8248, 34875,    43, 20441,\n",
       "         12180,     8,  4037,    32,     5,    80,   144,    12,  9578,  4560,\n",
       "          7656,  3612,  1432,    30,   622,     8,   599,    36,  8310,   684,\n",
       "            25,  1577,   322,  1204,    16,    67,     5,  1154,  1707,  3819,\n",
       "             6, 20410,     8, 14461,  2502,     6,  1047,  3696,     6,   558,\n",
       "         10606,     6,   804,   569,  1761,     6,  1345,     8,  3613,  3521,\n",
       "          3696,     6,  1830,  1633,   467,     6,  3748, 11407,     6,  3563,\n",
       "          2239,  7208,     6,     8,  4687,  6229,  3167,  3696,    11,     5,\n",
       "           232,    25,  9550,    30,   210,   458,   374,     5,   889,     9,\n",
       "           144,  5130,  3595,     6,  1204,    16,  4173,   200,    30, 11519,\n",
       "            25,     9,   644, 22991,     8,   887,    30,  3870, 11638,    25,\n",
       "             9,   902,  8157,   133,   138,    34,   829,  1233,  3633,  3329,\n",
       "           743,   215,    25,  4144,  1379,     6,   629, 29751,     6, 23915,\n",
       "             6,  1707, 18755,     6, 18849,     8,  2134,     9,    63, 21445,\n",
       "           737,     4,   374,   830,   195,     6, 15294,     6,   211,     4,\n",
       "           347,     4,  7813,   837,  3052, 16841,   221,     4,  1464,  6083,\n",
       "           102,  3447,    14,  1204,   547,    41,  2439, 21445,    81,  3742,\n",
       "          1707,     2]]), 'attention_mask': tensor([[1, 1, 1, 1, 1, 1, 1, 1, 1, 1, 1, 1, 1, 1, 1, 1, 1, 1, 1, 1, 1, 1, 1, 1,\n",
       "         1, 1, 1, 1, 1, 1, 1, 1, 1, 1, 1, 1, 1, 1, 1, 1, 1, 1, 1, 1, 1, 1, 1, 1,\n",
       "         1, 1, 1, 1, 1, 1, 1, 1, 1, 1, 1, 1, 1, 1, 1, 1, 1, 1, 1, 1, 1, 1, 1, 1,\n",
       "         1, 1, 1, 1, 1, 1, 1, 1, 1, 1, 1, 1, 1, 1, 1, 1, 1, 1, 1, 1, 1, 1, 1, 1,\n",
       "         1, 1, 1, 1, 1, 1, 1, 1, 1, 1, 1, 1, 1, 1, 1, 1, 1, 1, 1, 1, 1, 1, 1, 1,\n",
       "         1, 1, 1, 1, 1, 1, 1, 1, 1, 1, 1, 1, 1, 1, 1, 1, 1, 1, 1, 1, 1, 1, 1, 1,\n",
       "         1, 1, 1, 1, 1, 1, 1, 1, 1, 1, 1, 1, 1, 1, 1, 1, 1, 1, 1, 1, 1, 1, 1, 1,\n",
       "         1, 1, 1, 1, 1, 1, 1, 1, 1, 1, 1, 1, 1, 1, 1, 1, 1, 1, 1, 1, 1, 1, 1, 1,\n",
       "         1, 1, 1, 1, 1, 1, 1, 1, 1, 1, 1, 1, 1, 1, 1, 1, 1, 1, 1, 1, 1, 1, 1, 1,\n",
       "         1, 1, 1, 1, 1, 1, 1, 1, 1, 1, 1, 1, 1, 1, 1, 1, 1, 1, 1, 1, 1, 1, 1, 1,\n",
       "         1, 1, 1, 1, 1, 1, 1, 1, 1, 1, 1, 1, 1, 1, 1, 1, 1, 1, 1, 1, 1, 1, 1, 1,\n",
       "         1, 1, 1, 1, 1, 1, 1, 1, 1, 1, 1, 1, 1, 1, 1, 1, 1, 1, 1, 1, 1, 1, 1, 1,\n",
       "         1, 1, 1, 1, 1, 1, 1, 1, 1, 1, 1, 1, 1, 1, 1, 1, 1, 1, 1, 1, 1, 1, 1, 1,\n",
       "         1, 1, 1, 1, 1, 1, 1, 1, 1, 1, 1, 1, 1, 1, 1, 1, 1, 1, 1, 1, 1, 1, 1, 1,\n",
       "         1, 1, 1, 1, 1, 1, 1, 1, 1, 1, 1, 1, 1, 1, 1, 1, 1, 1, 1, 1, 1, 1, 1, 1,\n",
       "         1, 1, 1, 1, 1, 1, 1, 1, 1, 1, 1, 1, 1, 1, 1, 1, 1, 1, 1, 1, 1, 1, 1, 1,\n",
       "         1, 1, 1, 1, 1, 1, 1, 1, 1, 1, 1, 1, 1, 1, 1, 1, 1, 1, 1, 1, 1, 1, 1, 1,\n",
       "         1, 1, 1, 1, 1, 1, 1, 1, 1, 1, 1, 1, 1, 1, 1, 1, 1, 1, 1, 1, 1, 1, 1, 1,\n",
       "         1, 1, 1, 1, 1, 1, 1, 1, 1, 1, 1, 1, 1, 1, 1, 1, 1, 1, 1, 1, 1, 1, 1, 1,\n",
       "         1, 1, 1, 1, 1, 1, 1, 1, 1, 1, 1, 1, 1, 1, 1, 1, 1, 1, 1, 1, 1, 1, 1, 1,\n",
       "         1, 1, 1, 1, 1, 1, 1, 1, 1, 1, 1, 1, 1, 1, 1, 1, 1, 1, 1, 1, 1, 1, 1, 1,\n",
       "         1, 1, 1, 1, 1, 1, 1, 1, 1, 1, 1, 1, 1, 1, 1, 1, 1, 1, 1, 1, 1, 1, 1, 1,\n",
       "         1, 1, 1, 1, 1, 1, 1, 1, 1, 1, 1, 1, 1, 1, 1, 1, 1, 1, 1, 1, 1, 1, 1, 1,\n",
       "         1, 1, 1, 1, 1, 1, 1, 1, 1, 1, 1, 1, 1, 1, 1, 1, 1, 1, 1, 1, 1, 1, 1, 1,\n",
       "         1, 1, 1, 1, 1, 1, 1, 1, 1, 1, 1, 1, 1, 1, 1, 1, 1, 1, 1, 1, 1, 1, 1, 1,\n",
       "         1, 1, 1, 1, 1, 1, 1, 1, 1, 1, 1, 1, 1, 1, 1, 1, 1, 1, 1, 1, 1, 1, 1, 1,\n",
       "         1, 1, 1, 1, 1, 1, 1, 1, 1, 1, 1, 1, 1, 1, 1, 1, 1, 1, 1, 1, 1, 1, 1, 1,\n",
       "         1, 1, 1, 1, 1, 1, 1, 1, 1, 1, 1, 1, 1, 1, 1, 1, 1, 1, 1, 1, 1, 1, 1, 1]])}"
      ]
     },
     "execution_count": 13,
     "metadata": {},
     "output_type": "execute_result"
    }
   ],
   "source": [
    "# 모델 학습 이전에 BART 토크나이징\n",
    "# 바트 모델을 사용해서 입력 텍스트를 토크나이징 하세요.\n",
    "inputs = tokenizer.prepare_seq2seq_batch(article, return_tensors='pt', truncation=True)\n",
    "inputs"
   ]
  },
  {
   "cell_type": "code",
   "execution_count": 20,
   "metadata": {},
   "outputs": [
    {
     "data": {
      "text/plain": [
       "array([[    0, 20441,    16,    41,   470, 17043, 12772,     8,   806,\n",
       "          138,  5650,    15,   804,  4579,     6,  1707,  3819,   806,\n",
       "            6,  3613, 11730,     6,  3034,  2257,     6, 17997, 11730,\n",
       "            6,   364,    12,  8342,     6,  2267,  8917,     6,     8,\n",
       "         7350,  2316,    36, 15238,    43,    85,    34,    57,  4997,\n",
       "            7,    25,    22,   627,   144,  2247,   138,    11,     5,\n",
       "          232,   113,    30,     5,  8112,     8,    16,    65,     9,\n",
       "            5,   232,    18,   144,  5130,  3595,   528,     7,    63,\n",
       "          210, 12532,     6,   414,  2783,     6,     8,  9874, 12340,\n",
       "           11,     5,   882,     9,  4687,  7538,  3730,  1645,     6,\n",
       "         1257,     6, 37622,     6,     8,  3709,     6,  1204,    18,\n",
       "         4095,   138,     6, 15023,   603,     4,    16,    65,     9,\n",
       "            5,   292,  1776,  4569,   451,     4, 20441,    21,  4790,\n",
       "           15,   772,   204,     6,  6708,     6,    30,   470,  3034,\n",
       "         4211,  6045,  7086,     8, 23509,  2265,   179,   150,    51,\n",
       "           58, 15221,   521,    23,  8607,   589,    11,   886,     4,\n",
       "        10853,     6,    51,   308,    59,   501,   207,     9,    63,\n",
       "         3271,  3147,   327,     8,   797,  4772,   207,     9,    63,\n",
       "          388, 14074,  3434,   476,   149,  2422,    12,   705, 12653,\n",
       "          388,     4,    20,   138,   439,   285,  1241,    41,  2557,\n",
       "          285,  1839,    36,  3808,   673,    43,    11,  4482,     4,\n",
       "           96,   570,     6,  1204,    21,   769, 29835,    25,    10,\n",
       "        16123,  2164,  8540,     9, 15023,   603,     4,  1204,    16,\n",
       "        15023,    18,  1154,  8540,     8,    16,    10,  1826,   138,\n",
       "           13, 15023,    18,  2888,  3611,     8,  3168,     4, 12282,\n",
       "          271,   221,  1725,  1439,    21,  3873,  1324,     9,  1204,\n",
       "           15,   779,   706,     6,   570,     6,  8119,  6045,  7086,\n",
       "            6,    54,  1059,     5,  1324,     9, 15023,     4,   374,\n",
       "          719,   155,     6,   954,     6,   221,  1725,  1439,    67,\n",
       "         1059,     5,  1324,     9, 15023,   133,   138,    34,   187,\n",
       "         6042,  3831,     7,   904,    10, 25180,     9,   785,     8,\n",
       "          518,  1684,  1204, 12180,     6,   171,     9,    61,   946,\n",
       "         7353,   210,  2452,     4,  1216,   785,  1100,    10,  1810,\n",
       "         1186,     9,   304,  1200,     6,   217,  1047,    36,   534,\n",
       "         6380,   238, 14461,     8, 20410,    36,   771, 10129,     6,\n",
       "        21089,     8,  3875,   238,  3613, 11730,    36, 14438,   238,\n",
       "         3748, 14461,    36,  4771, 20169,   238,   569,  3565,    36,\n",
       "        36169,   238,  8106,    36, 26025, 18851,   238,  1633,  1743,\n",
       "           36, 42375,   238,  3613,  3521,    36, 29279,   238,  2777,\n",
       "        19850,    36, 19163, 19593,   238,  1345,  3521,    36, 38580,\n",
       "          238, 29331,  6457,   459, 29788,    36, 30682,   238,  2793,\n",
       "          184,    36,   487,   990,   238,  7466,    36, 46548,   238,\n",
       "        23541,   806,    36, 46548,  3075,     8, 14950,  5881,   238,\n",
       "          930,  5230,    36, 36169,  3920,   238,   569,    15,  1077,\n",
       "           36, 36169,  1012,   238,  4687,    36, 20441,  6267,     8,\n",
       "        26577,   238,  3563,  2239, 35329,    36,   565, 35354, 41779,\n",
       "          238,  4687,  8053,    36,   565, 16821,   238,     8,    55,\n",
       "            4, 19020,  2533,   179,  6796,  1204,   785,   680,  6548,\n",
       "           36,  5320, 20329,    43, 10352,     6,  1204, 30787, 27019,\n",
       "            6,  3902,  3920,     6, 28645,     6, 12403,  4518,     6,\n",
       "            8,    96,  8304,    30, 29004,  1204,    18,    97, 16186,\n",
       "          751,     9,  2888,   518,     8,  2267,  8917,   680, 17997,\n",
       "        11730,    36, 35615, 16767,  1688,   238,  1403,    12, 10241,\n",
       "         1677,    36, 24450,  4992,     6,  9598,     5,  1204, 12156,\n",
       "           12, 34002,  6645,  1653,  3728,   238,  2793,  1947,    36,\n",
       "          104,   808,  2753,  9707, 20404,   238,     8, 40878,  3092,\n",
       "           36, 20441,  8248, 34875,    43, 20441, 12180,     8,  4037,\n",
       "           32,     5,    80,   144,    12,  9578,  4560,  7656,  3612,\n",
       "         1432,    30,   622,     8,   599,    36,  8310,   684,    25,\n",
       "         1577,   322,  1204,    16,    67,     5,  1154,  1707,  3819,\n",
       "            6, 20410,     8, 14461,  2502,     6,  1047,  3696,     6,\n",
       "          558, 10606,     6,   804,   569,  1761,     6,  1345,     8,\n",
       "         3613,  3521,  3696,     6,  1830,  1633,   467,     6,  3748,\n",
       "        11407,     6,  3563,  2239,  7208,     6,     8,  4687,  6229,\n",
       "         3167,  3696,    11,     5,   232,    25,  9550,    30,   210,\n",
       "          458,   374,     5,   889,     9,   144,  5130,  3595,     6,\n",
       "         1204,    16,  4173,   200,    30, 11519,    25,     9,   644,\n",
       "        22991,     8,   887,    30,  3870, 11638,    25,     9,   902,\n",
       "         8157,   133,   138,    34,   829,  1233,  3633,  3329,   743,\n",
       "          215,    25,  4144,  1379,     6,   629, 29751,     6, 23915,\n",
       "            6,  1707, 18755,     6, 18849,     8,  2134,     9,    63,\n",
       "        21445,   737,     4,   374,   830,   195,     6, 15294,     6,\n",
       "          211,     4,   347,     4,  7813,   837,  3052, 16841,   221,\n",
       "            4,  1464,  6083,   102,  3447,    14,  1204,   547,    41,\n",
       "         2439, 21445,    81,  3742,  1707,     2]])"
      ]
     },
     "execution_count": 20,
     "metadata": {},
     "output_type": "execute_result"
    }
   ],
   "source": [
    "# bert 토크나이징 결과를 넘파이 어레이로 변환.\n",
    "inputs['input_ids'].numpy()"
   ]
  },
  {
   "cell_type": "code",
   "execution_count": 35,
   "metadata": {},
   "outputs": [
    {
     "name": "stdout",
     "output_type": "stream",
     "text": [
      "tensor([[    2,     0, 20441,    16,    41,   470, 17043, 12772,     8,   806,\n",
      "           138,  5650,    15,   804,  4579,     6,  1707,  3819,   806,     6,\n",
      "             2]])\n"
     ]
    }
   ],
   "source": [
    "# 문제 052의 영문 위키피디아의 Google LCC 텍스트 처리 결과물을 문제 050에서 불러온 모델에 투입해서 요약 문장을\n",
    "# vocabulary ID 형태로 생성하세요.\n",
    "outputs = model.generate(inputs['input_ids'])\n",
    "print(outputs)"
   ]
  },
  {
   "cell_type": "code",
   "execution_count": 40,
   "metadata": {},
   "outputs": [
    {
     "name": "stdout",
     "output_type": "stream",
     "text": [
      "Google is an American multinational corporation and technology company focusing on online advertising, search engine technology,\n"
     ]
    }
   ],
   "source": [
    "# BART 추론 결과를 디코딩.\n",
    "# 문제 054에서 생성된 요약 문장을 summary_ids 을 디코딩해서 사람이 읽고 이해할 수 있는 자연스런 영어 문장으로 변환하세요^^\n",
    "\n",
    "ds = [tokenizer.decode(g, skip_special_tokens=True, clean_up_tokenization_spaces=False) for g in outputs]\n",
    "print(\"\".join(ds))"
   ]
  }
 ],
 "metadata": {
  "kernelspec": {
   "display_name": ".venv",
   "language": "python",
   "name": "python3"
  },
  "language_info": {
   "codemirror_mode": {
    "name": "ipython",
    "version": 3
   },
   "file_extension": ".py",
   "mimetype": "text/x-python",
   "name": "python",
   "nbconvert_exporter": "python",
   "pygments_lexer": "ipython3",
   "version": "3.10.12"
  }
 },
 "nbformat": 4,
 "nbformat_minor": 2
}
