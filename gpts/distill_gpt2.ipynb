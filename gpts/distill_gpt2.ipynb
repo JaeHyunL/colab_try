{
 "cells": [
  {
   "cell_type": "markdown",
   "metadata": {},
   "source": [
    "distilled GPT2 모델을 huggingface에서 불러오고 token과 tokenizer를 불러옴."
   ]
  },
  {
   "cell_type": "code",
   "execution_count": null,
   "metadata": {},
   "outputs": [
    {
     "name": "stderr",
     "output_type": "stream",
     "text": [
      "Downloading data: 100%|██████████| 62.3M/62.3M [00:22<00:00, 2.77MB/s]\n",
      "Downloading data: 100%|██████████| 5.00M/5.00M [00:02<00:00, 1.71MB/s]\n",
      "Downloading data: 100%|██████████| 1.76M/1.76M [00:00<00:00, 2.10MB/s]\n",
      "Downloading data: 100%|██████████| 3.85M/3.85M [00:01<00:00, 2.20MB/s]\n",
      "Generating train split: 100%|██████████| 91772/91772 [00:06<00:00, 13134.94 examples/s]\n",
      "Generating validation1 split: 100%|██████████| 5446/5446 [00:00<00:00, 14695.45 examples/s]\n",
      "Generating validation2 split: 100%|██████████| 2375/2375 [00:00<00:00, 18452.47 examples/s]\n",
      "Generating test split: 100%|██████████| 5411/5411 [00:00<00:00, 20897.75 examples/s]\n"
     ]
    }
   ],
   "source": [
    "from datasets import load_dataset\n",
    "\n",
    "eli5 = load_dataset('eli5_category', split='train[:5000]')"
   ]
  },
  {
   "cell_type": "code",
   "execution_count": 4,
   "metadata": {},
   "outputs": [
    {
     "name": "stderr",
     "output_type": "stream",
     "text": [
      "/mnt/d/workspace/colab_try/.venv/lib/python3.12/site-packages/transformers/models/auto/modeling_auto.py:1905: FutureWarning: The class `AutoModelWithLMHead` is deprecated and will be removed in a future version. Please use `AutoModelForCausalLM` for causal language models, `AutoModelForMaskedLM` for masked language models and `AutoModelForSeq2SeqLM` for encoder-decoder models.\n",
      "  warnings.warn(\n"
     ]
    }
   ],
   "source": [
    "from transformers import AutoTokenizer, AutoModelWithLMHead\n",
    "\n",
    "tokenizer = AutoTokenizer.from_pretrained('distilbert/distilgpt2')\n",
    "model = AutoModelWithLMHead.from_pretrained('distilbert/distilgpt2')"
   ]
  },
  {
   "cell_type": "code",
   "execution_count": 76,
   "metadata": {},
   "outputs": [
    {
     "name": "stderr",
     "output_type": "stream",
     "text": [
      "The attention mask and the pad token id were not set. As a consequence, you may observe unexpected behavior. Please pass your input's `attention_mask` to obtain reliable results.\n",
      "Setting `pad_token_id` to `eos_token_id`:50256 for open-end generation.\n"
     ]
    },
    {
     "name": "stdout",
     "output_type": "stream",
     "text": [
      "[\"I like gpt because It's hard for me to get\"]\n"
     ]
    }
   ],
   "source": [
    "# I like gpt because it's\n",
    "prompt = (\n",
    "    \"I like gpt because It's\"\n",
    ")\n",
    "\n",
    "input_ids = tokenizer(prompt, return_tensors=\"pt\").input_ids\n",
    "gen_tokens = model.generate(\n",
    "    input_ids,\n",
    "    do_sample=True,\n",
    "    max_length=12\n",
    ")\n",
    "gen_text = tokenizer.batch_decode(gen_tokens)\n",
    "print(gen_text)"
   ]
  },
  {
   "cell_type": "code",
   "execution_count": 39,
   "metadata": {},
   "outputs": [
    {
     "name": "stderr",
     "output_type": "stream",
     "text": [
      "The attention mask and the pad token id were not set. As a consequence, you may observe unexpected behavior. Please pass your input's `attention_mask` to obtain reliable results.\n",
      "Setting `pad_token_id` to `eos_token_id`:50256 for open-end generation.\n"
     ]
    },
    {
     "name": "stdout",
     "output_type": "stream",
     "text": [
      "Output: \n",
      "----------------------------------------------------------------------------------------------------\n",
      "I like gpt because it's a good thing to have\n"
     ]
    }
   ],
   "source": [
    "input_ids = tokenizer.encode(\"I like gpt because it's\", return_tensors='pt')\n",
    "\n",
    "greedy_output = model.generate(input_ids, max_length=12)\n",
    "\n",
    "print(\"Output: \\n\" + 100 * '-')\n",
    "print(tokenizer.decode(greedy_output[0], skip_special_tokens=True))"
   ]
  }
 ],
 "metadata": {
  "kernelspec": {
   "display_name": ".venv",
   "language": "python",
   "name": "python3"
  },
  "language_info": {
   "codemirror_mode": {
    "name": "ipython",
    "version": 3
   },
   "file_extension": ".py",
   "mimetype": "text/x-python",
   "name": "python",
   "nbconvert_exporter": "python",
   "pygments_lexer": "ipython3",
   "version": "3.12.4"
  }
 },
 "nbformat": 4,
 "nbformat_minor": 2
}
