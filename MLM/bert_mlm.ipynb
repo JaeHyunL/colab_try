{
 "cells": [
  {
   "cell_type": "code",
   "execution_count": 10,
   "metadata": {},
   "outputs": [
    {
     "name": "stderr",
     "output_type": "stream",
     "text": [
      "Some weights of the model checkpoint at bert-base-uncased were not used when initializing BertForMaskedLM: ['bert.pooler.dense.bias', 'bert.pooler.dense.weight', 'cls.seq_relationship.bias', 'cls.seq_relationship.weight']\n",
      "- This IS expected if you are initializing BertForMaskedLM from the checkpoint of a model trained on another task or with another architecture (e.g. initializing a BertForSequenceClassification model from a BertForPreTraining model).\n",
      "- This IS NOT expected if you are initializing BertForMaskedLM from the checkpoint of a model that you expect to be exactly identical (initializing a BertForSequenceClassification model from a BertForSequenceClassification model).\n"
     ]
    },
    {
     "name": "stdout",
     "output_type": "stream",
     "text": [
      "Predicted word: main\n"
     ]
    }
   ],
   "source": [
    "from transformers import BertTokenizer, BertForMaskedLM\n",
    "import torch\n",
    "\n",
    "# 토크나이저 및 모델 로드\n",
    "model_name = \"bert-base-uncased\"\n",
    "tokenizer = BertTokenizer.from_pretrained(model_name)\n",
    "model = BertForMaskedLM.from_pretrained(model_name)\n",
    "\n",
    "# 입력 문장 (단어 하나 마스킹)\n",
    "sentence = \"MLM and NSP is the [MASK] task of BERT\"\n",
    "inputs = tokenizer(sentence, return_tensors=\"pt\")\n",
    "\n",
    "# 예측 실행\n",
    "with torch.no_grad():\n",
    "    outputs = model(**inputs)\n",
    "    predictions = outputs.logits\n",
    "\n",
    "# 마스킹된 토큰 예측\n",
    "masked_index = inputs.input_ids[0].tolist().index(tokenizer.mask_token_id)\n",
    "predicted_token_id = predictions[0, masked_index].argmax().item()\n",
    "predicted_word = tokenizer.decode([predicted_token_id])\n",
    "\n",
    "print(\"Predicted word:\", predicted_word)  # \"Predicted word: tool\" (예시)\n"
   ]
  },
  {
   "cell_type": "code",
   "execution_count": 11,
   "metadata": {},
   "outputs": [
    {
     "name": "stderr",
     "output_type": "stream",
     "text": [
      "Some weights of the model checkpoint at bert-base-uncased were not used when initializing BertForMaskedLM: ['bert.pooler.dense.bias', 'bert.pooler.dense.weight', 'cls.seq_relationship.bias', 'cls.seq_relationship.weight']\n",
      "- This IS expected if you are initializing BertForMaskedLM from the checkpoint of a model trained on another task or with another architecture (e.g. initializing a BertForSequenceClassification model from a BertForPreTraining model).\n",
      "- This IS NOT expected if you are initializing BertForMaskedLM from the checkpoint of a model that you expect to be exactly identical (initializing a BertForSequenceClassification model from a BertForSequenceClassification model).\n",
      "Device set to use cuda:0\n"
     ]
    },
    {
     "data": {
      "text/plain": [
       "[{'score': 0.2572787404060364,\n",
       "  'token': 2364,\n",
       "  'token_str': 'main',\n",
       "  'sequence': 'mlm and nsp is the main task of bert.'},\n",
       " {'score': 0.20740661025047302,\n",
       "  'token': 3078,\n",
       "  'token_str': 'primary',\n",
       "  'sequence': 'mlm and nsp is the primary task of bert.'},\n",
       " {'score': 0.06773309409618378,\n",
       "  'token': 2034,\n",
       "  'token_str': 'first',\n",
       "  'sequence': 'mlm and nsp is the first task of bert.'},\n",
       " {'score': 0.06548521667718887,\n",
       "  'token': 2430,\n",
       "  'token_str': 'central',\n",
       "  'sequence': 'mlm and nsp is the central task of bert.'},\n",
       " {'score': 0.06167421117424965,\n",
       "  'token': 3937,\n",
       "  'token_str': 'basic',\n",
       "  'sequence': 'mlm and nsp is the basic task of bert.'}]"
      ]
     },
     "execution_count": 11,
     "metadata": {},
     "output_type": "execute_result"
    }
   ],
   "source": [
    "from transformers import pipeline\n",
    "\n",
    "unmasker = pipeline('fill-mask', model='bert-base-uncased')\n",
    "unmasker(\"MLM and NSP is the [MASK] task of BERT.\")"
   ]
  },
  {
   "cell_type": "code",
   "execution_count": null,
   "metadata": {},
   "outputs": [],
   "source": [
    "from transformers import pipeline\n",
    "\n",
    "unmasker = pipeline('fill-mask', model='distilbert-base-uncased')\n",
    "unmasker(\"MLM and NSP is the [MASK] task of BERT.\")"
   ]
  }
 ],
 "metadata": {
  "kernelspec": {
   "display_name": ".venv",
   "language": "python",
   "name": "python3"
  },
  "language_info": {
   "codemirror_mode": {
    "name": "ipython",
    "version": 3
   },
   "file_extension": ".py",
   "mimetype": "text/x-python",
   "name": "python",
   "nbconvert_exporter": "python",
   "pygments_lexer": "ipython3",
   "version": "3.12.4"
  }
 },
 "nbformat": 4,
 "nbformat_minor": 2
}
