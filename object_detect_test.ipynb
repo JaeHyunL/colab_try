{
 "cells": [
  {
   "cell_type": "code",
   "execution_count": null,
   "metadata": {
    "vscode": {
     "languageId": "plaintext"
    }
   },
   "outputs": [],
   "source": [
    "from ultralytics import YOLO\n",
    "\n",
    "# 사전 학습된 YOLOv11n 모델 로드\n",
    "model = YOLO(\"yolo11m.pt\")\n",
    "\n",
    "# 이미지에서 객체 탐지 수행\n",
    "results = model(\"path/to/your/image.jpg\")\n",
    "\n",
    "# 결과 시각화\n",
    "results.show()\n"
   ]
  }
 ],
 "metadata": {
  "language_info": {
   "name": "python"
  }
 },
 "nbformat": 4,
 "nbformat_minor": 2
}
